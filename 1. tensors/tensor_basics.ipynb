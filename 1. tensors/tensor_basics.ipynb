{
 "cells": [
  {
   "cell_type": "code",
   "execution_count": 1,
   "metadata": {},
   "outputs": [],
   "source": [
    "import torch"
   ]
  },
  {
   "attachments": {},
   "cell_type": "markdown",
   "metadata": {},
   "source": [
    "## All about pytorch tensors"
   ]
  },
  {
   "cell_type": "code",
   "execution_count": 2,
   "metadata": {},
   "outputs": [],
   "source": [
    "device = 'cuda' if torch.cuda.is_available() else 'cpu'"
   ]
  },
  {
   "cell_type": "code",
   "execution_count": 3,
   "metadata": {},
   "outputs": [],
   "source": [
    "my_ten =  torch.tensor(\n",
    "    [[1,2,3], [7,8,9]],\n",
    "     dtype=torch.float32, device=device,\n",
    "     requires_grad=True)"
   ]
  },
  {
   "cell_type": "code",
   "execution_count": 4,
   "metadata": {},
   "outputs": [
    {
     "name": "stdout",
     "output_type": "stream",
     "text": [
      "tensor([[1., 2., 3.],\n",
      "        [7., 8., 9.]], device='cuda:0', requires_grad=True)\n"
     ]
    }
   ],
   "source": [
    "print(my_ten)"
   ]
  },
  {
   "cell_type": "code",
   "execution_count": 5,
   "metadata": {},
   "outputs": [
    {
     "data": {
      "text/plain": [
       "torch.Tensor"
      ]
     },
     "execution_count": 5,
     "metadata": {},
     "output_type": "execute_result"
    }
   ],
   "source": [
    "type(my_ten)"
   ]
  },
  {
   "cell_type": "code",
   "execution_count": 6,
   "metadata": {},
   "outputs": [
    {
     "name": "stdout",
     "output_type": "stream",
     "text": [
      "shape of tensor: \n",
      "torch.Size([2, 3])\n"
     ]
    }
   ],
   "source": [
    "print('shape of tensor: ')\n",
    "print(my_ten.shape)"
   ]
  },
  {
   "cell_type": "code",
   "execution_count": 7,
   "metadata": {},
   "outputs": [
    {
     "name": "stdout",
     "output_type": "stream",
     "text": [
      "type of tensor: \n",
      "torch.float32\n"
     ]
    }
   ],
   "source": [
    "print('type of tensor: ' )\n",
    "print(my_ten.dtype)"
   ]
  },
  {
   "cell_type": "code",
   "execution_count": 8,
   "metadata": {},
   "outputs": [
    {
     "name": "stdout",
     "output_type": "stream",
     "text": [
      "device of  tensor: \n",
      "cuda:0\n"
     ]
    }
   ],
   "source": [
    "print('device of  tensor: ' )\n",
    "print(my_ten.device)"
   ]
  },
  {
   "attachments": {},
   "cell_type": "markdown",
   "metadata": {},
   "source": [
    "### Common init methods"
   ]
  },
  {
   "cell_type": "code",
   "execution_count": 9,
   "metadata": {},
   "outputs": [],
   "source": [
    "# Initialise empty tensors\n",
    "x = torch.empty(size = (3,3))\n",
    "\n",
    "# Note: it does not initialize the value with zeroes rather some random values available\n",
    "# in the memory. It may look like zeroes."
   ]
  },
  {
   "cell_type": "code",
   "execution_count": 10,
   "metadata": {},
   "outputs": [
    {
     "name": "stdout",
     "output_type": "stream",
     "text": [
      "tensor([[0., 0., 0.],\n",
      "        [0., 0., 0.],\n",
      "        [0., 0., 0.]])\n"
     ]
    }
   ],
   "source": [
    "# Initialise tensor with zeros \n",
    "x = torch.zeros(size = (3,3))\n",
    "print(x)\n"
   ]
  },
  {
   "attachments": {},
   "cell_type": "markdown",
   "metadata": {},
   "source": [
    "### Initialise tensors and convert to other types (int, float, ...)"
   ]
  },
  {
   "cell_type": "code",
   "execution_count": 11,
   "metadata": {},
   "outputs": [
    {
     "data": {
      "text/plain": [
       "tensor([0, 1, 2, 3])"
      ]
     },
     "execution_count": 11,
     "metadata": {},
     "output_type": "execute_result"
    }
   ],
   "source": [
    "tensor = torch.arange(4) \n",
    "tensor"
   ]
  },
  {
   "cell_type": "code",
   "execution_count": 12,
   "metadata": {},
   "outputs": [
    {
     "name": "stdout",
     "output_type": "stream",
     "text": [
      "tensor([False,  True,  True,  True])\n"
     ]
    }
   ],
   "source": [
    "# convert to bool\n",
    "print(tensor.bool())"
   ]
  },
  {
   "cell_type": "code",
   "execution_count": 13,
   "metadata": {},
   "outputs": [
    {
     "name": "stdout",
     "output_type": "stream",
     "text": [
      "tensor([0, 1, 2, 3], dtype=torch.int16)\n"
     ]
    }
   ],
   "source": [
    "# convert to short - int16\n",
    "print(tensor.short())"
   ]
  },
  {
   "cell_type": "code",
   "execution_count": 14,
   "metadata": {},
   "outputs": [
    {
     "name": "stdout",
     "output_type": "stream",
     "text": [
      "tensor([0, 1, 2, 3])\n"
     ]
    }
   ],
   "source": [
    "# convert to long - int64 (imp: mostly used)\n",
    "print(tensor.long())"
   ]
  },
  {
   "cell_type": "code",
   "execution_count": 15,
   "metadata": {},
   "outputs": [
    {
     "name": "stdout",
     "output_type": "stream",
     "text": [
      "tensor([0., 1., 2., 3.], dtype=torch.float16)\n"
     ]
    }
   ],
   "source": [
    "# convert to half - float16\n",
    "print(tensor.half())"
   ]
  },
  {
   "cell_type": "code",
   "execution_count": 16,
   "metadata": {},
   "outputs": [
    {
     "name": "stdout",
     "output_type": "stream",
     "text": [
      "torch.float32\n"
     ]
    }
   ],
   "source": [
    "# convert to float - float32 (imp: mostly used)\n",
    "print(tensor.float().dtype)"
   ]
  },
  {
   "cell_type": "code",
   "execution_count": 17,
   "metadata": {},
   "outputs": [
    {
     "name": "stdout",
     "output_type": "stream",
     "text": [
      "torch.float64\n"
     ]
    }
   ],
   "source": [
    "# convert to double - float64\n",
    "print(tensor.double().dtype)"
   ]
  },
  {
   "attachments": {},
   "cell_type": "markdown",
   "metadata": {},
   "source": [
    "### Array to tensor conversion and vice versa"
   ]
  },
  {
   "cell_type": "code",
   "execution_count": 18,
   "metadata": {},
   "outputs": [],
   "source": [
    "import numpy as np"
   ]
  },
  {
   "cell_type": "code",
   "execution_count": 19,
   "metadata": {},
   "outputs": [
    {
     "data": {
      "text/plain": [
       "array([1, 2, 3])"
      ]
     },
     "execution_count": 19,
     "metadata": {},
     "output_type": "execute_result"
    }
   ],
   "source": [
    "numpy_arr = np.array([1, 2, 3])\n",
    "numpy_arr"
   ]
  },
  {
   "cell_type": "code",
   "execution_count": 20,
   "metadata": {},
   "outputs": [
    {
     "data": {
      "text/plain": [
       "tensor([1, 2, 3], dtype=torch.int32)"
      ]
     },
     "execution_count": 20,
     "metadata": {},
     "output_type": "execute_result"
    }
   ],
   "source": [
    "torch_tensor = torch.from_numpy(numpy_arr)\n",
    "torch_tensor"
   ]
  },
  {
   "cell_type": "code",
   "execution_count": 21,
   "metadata": {},
   "outputs": [
    {
     "data": {
      "text/plain": [
       "array([1, 2, 3])"
      ]
     },
     "execution_count": 21,
     "metadata": {},
     "output_type": "execute_result"
    }
   ],
   "source": [
    "# Back to numpy\n",
    "torch_tensor.numpy()"
   ]
  },
  {
   "attachments": {},
   "cell_type": "markdown",
   "metadata": {},
   "source": [
    "### Tensor Math and Comparision Operators"
   ]
  },
  {
   "cell_type": "code",
   "execution_count": 22,
   "metadata": {},
   "outputs": [
    {
     "name": "stdout",
     "output_type": "stream",
     "text": [
      "tensor([1, 2, 3]) tensor([9, 8, 7])\n"
     ]
    }
   ],
   "source": [
    "# Adition\n",
    "x = torch.tensor([1,2,3])\n",
    "y = torch.tensor([9,8,7])\n",
    "print(x,y)"
   ]
  },
  {
   "cell_type": "code",
   "execution_count": 23,
   "metadata": {},
   "outputs": [
    {
     "name": "stdout",
     "output_type": "stream",
     "text": [
      "tensor([10., 10., 10.])\n"
     ]
    }
   ],
   "source": [
    "# way1\n",
    "# Save the results in another empty placeholder\n",
    "z1 = torch.empty(3)\n",
    "torch.add(x,y, out=z1)\n",
    "print(z1)\n"
   ]
  },
  {
   "cell_type": "code",
   "execution_count": 24,
   "metadata": {},
   "outputs": [
    {
     "name": "stdout",
     "output_type": "stream",
     "text": [
      "tensor([10, 10, 10])\n"
     ]
    }
   ],
   "source": [
    "# way2\n",
    "z2 = torch.add(x,y)\n",
    "print(z2)"
   ]
  },
  {
   "cell_type": "code",
   "execution_count": 25,
   "metadata": {},
   "outputs": [
    {
     "name": "stdout",
     "output_type": "stream",
     "text": [
      "tensor([10, 10, 10])\n"
     ]
    }
   ],
   "source": [
    "z3 = x + y\n",
    "print(z3)"
   ]
  },
  {
   "cell_type": "code",
   "execution_count": 26,
   "metadata": {},
   "outputs": [
    {
     "name": "stdout",
     "output_type": "stream",
     "text": [
      "tensor([-8, -6, -4])\n"
     ]
    }
   ],
   "source": [
    "# Substraction\n",
    "# all methods works but below is the simplest one\n",
    "z = x-y\n",
    "print(z)"
   ]
  },
  {
   "cell_type": "code",
   "execution_count": 27,
   "metadata": {},
   "outputs": [
    {
     "name": "stdout",
     "output_type": "stream",
     "text": [
      "legacy system: tensor([0.1111, 0.2500, 0.4286])\n",
      "updated system: tensor([0.1111, 0.2500, 0.4286])\n"
     ]
    }
   ],
   "source": [
    "# Substraction\n",
    "# Legacy version\n",
    "z = torch.true_divide(x, y) # does the element-wise division. It is a bit clunky.\n",
    "print(\"legacy system:\", z)\n",
    "\n",
    "# updated system like the simple division\n",
    "z = x/y\n",
    "print(\"updated system:\", z)"
   ]
  },
  {
   "cell_type": "code",
   "execution_count": 28,
   "metadata": {},
   "outputs": [
    {
     "name": "stdout",
     "output_type": "stream",
     "text": [
      "t : tensor([0., 0., 0.])\n",
      "\n",
      " add operation\n",
      "t : tensor([0., 0., 0.])\n",
      "\n",
      " add_ operation\n",
      "t : tensor([2., 2., 2.])\n",
      "\n",
      " add operation\n",
      "t : tensor([3., 3., 3.])\n"
     ]
    }
   ],
   "source": [
    "# Inplace operations\n",
    "\n",
    "# perform the operations and update the variable witout making a copy\n",
    "# Any operations follwed by '_' does the inplace operation\n",
    "# E.g., add_, subtract_, multiply_, normal_, uniform_\n",
    "\n",
    "t = torch.zeros(3)\n",
    "print('t :', t)\n",
    "\n",
    "# observe the difference between below 2 operations\n",
    "t.add(2)\n",
    "print('\\n add operation')\n",
    "print('t :', t)\n",
    "\n",
    "t.add_(2)\n",
    "print('\\n add_ operation')\n",
    "print('t :', t)\n",
    "\n",
    "\n",
    "t = t + 1 # makes a copy of t and then overwrites it\n",
    "print('\\n add operation')\n",
    "print('t :', t)\n"
   ]
  },
  {
   "cell_type": "code",
   "execution_count": 29,
   "metadata": {},
   "outputs": [
    {
     "name": "stdout",
     "output_type": "stream",
     "text": [
      "tensor([1, 4, 9])\n",
      "tensor([1, 4, 9])\n"
     ]
    }
   ],
   "source": [
    "# exponential operations\n",
    "z = x.pow(2)\n",
    "print(z)\n",
    "\n",
    "z = x**2 # prefered way. Easy and simple\n",
    "print(z)"
   ]
  },
  {
   "cell_type": "code",
   "execution_count": 30,
   "metadata": {},
   "outputs": [
    {
     "name": "stdout",
     "output_type": "stream",
     "text": [
      "tensor([ True,  True, False])\n"
     ]
    },
    {
     "data": {
      "text/plain": [
       "tensor([False, False, False])"
      ]
     },
     "execution_count": 30,
     "metadata": {},
     "output_type": "execute_result"
    }
   ],
   "source": [
    "# comparision operators\n",
    "z = x < 3\n",
    "print(z)\n",
    "\n",
    "z = x > 3\n",
    "(z)"
   ]
  },
  {
   "cell_type": "code",
   "execution_count": 31,
   "metadata": {},
   "outputs": [
    {
     "name": "stdout",
     "output_type": "stream",
     "text": [
      "tensor([[0.3304, 0.9211, 0.3361, 0.9327]])\n",
      "tensor([[0.8986, 0.6160, 0.4696],\n",
      "        [0.6181, 0.9993, 0.4321],\n",
      "        [0.1986, 0.3558, 0.4611],\n",
      "        [0.0508, 0.0111, 0.9510]])\n",
      "\n",
      " matrix multiplication: \n",
      "tensor([[0.9804, 1.2539, 1.5951]])\n",
      "tensor([[0.9804, 1.2539, 1.5951]])\n"
     ]
    }
   ],
   "source": [
    "# matrix multiplication operations\n",
    "\n",
    "x1 = torch.rand(size=(1,4))\n",
    "x2 = torch.rand(size=(4,3))\n",
    "\n",
    "print(x1)\n",
    "print(x2)\n",
    "\n",
    "# matrix multiplication\n",
    "print('\\n matrix multiplication: ')\n",
    "z = torch.mm(x1,x2) # ouput size: 1x3\n",
    "print(z)\n",
    "\n",
    "z = x1.mm(x2)\n",
    "print(z)"
   ]
  },
  {
   "cell_type": "code",
   "execution_count": 32,
   "metadata": {},
   "outputs": [
    {
     "name": "stdout",
     "output_type": "stream",
     "text": [
      "mat_exp = tensor([[2., 2., 2.],\n",
      "        [2., 2., 2.],\n",
      "        [2., 2., 2.]])\n",
      "mat_exp = tensor([[12., 12., 12.],\n",
      "        [12., 12., 12.],\n",
      "        [12., 12., 12.]])\n"
     ]
    }
   ],
   "source": [
    "# matrix exponential\n",
    "\n",
    "mat_exp = torch.ones(3,3) * 2\n",
    "print('mat_exp =', mat_exp)\n",
    "\n",
    "\n",
    "print('mat_exp =', mat_exp.matrix_power(2))"
   ]
  },
  {
   "cell_type": "code",
   "execution_count": 33,
   "metadata": {},
   "outputs": [
    {
     "name": "stdout",
     "output_type": "stream",
     "text": [
      "tensor([1, 2, 3]) tensor([9, 8, 7])\n",
      "tensor([ 9, 16, 21])\n",
      "tensor(46)\n"
     ]
    }
   ],
   "source": [
    "# element wise multiplication\n",
    "print(x,y)\n",
    "\n",
    "z = x*y\n",
    "print(z)\n",
    "\n",
    "# Dot product\n",
    "z = x.dot(y)\n",
    "print(z)"
   ]
  },
  {
   "cell_type": "code",
   "execution_count": 34,
   "metadata": {},
   "outputs": [
    {
     "data": {
      "text/plain": [
       "tensor(True)"
      ]
     },
     "execution_count": 34,
     "metadata": {},
     "output_type": "execute_result"
    }
   ],
   "source": [
    "# Batch matrix multiplication or 3d multiplication\n",
    "batch = 32\n",
    "n = 10\n",
    "m = 20\n",
    "p = 30\n",
    "\n",
    "t1 = torch.ones(size = (batch, n, m)) * 2\n",
    "t2 = torch.ones(size = (batch, m, p)) * 2\n",
    "\n",
    "out1 = t1.bmm(t2) # output dim: batch x n x p\n",
    "\n",
    "# or\n",
    "out2 = torch.bmm(t1, t2)\n",
    "\n",
    "# checking whether output is same\n",
    "(out1==out2).all()\n"
   ]
  },
  {
   "cell_type": "code",
   "execution_count": 44,
   "metadata": {},
   "outputs": [
    {
     "name": "stdout",
     "output_type": "stream",
     "text": [
      "tensor([[1., 1., 1.],\n",
      "        [1., 1., 1.],\n",
      "        [1., 1., 1.],\n",
      "        [1., 1., 1.],\n",
      "        [1., 1., 1.]])\n",
      "tensor([[2., 2., 2.]])\n"
     ]
    }
   ],
   "source": [
    "# broadcasting\n",
    "x1 = torch.ones((5,3))\n",
    "x2 = torch.ones((1,3))*2\n",
    "\n",
    "print(x1)\n",
    "print(x2)"
   ]
  },
  {
   "cell_type": "code",
   "execution_count": 45,
   "metadata": {},
   "outputs": [
    {
     "data": {
      "text/plain": [
       "tensor([[-1., -1., -1.],\n",
       "        [-1., -1., -1.],\n",
       "        [-1., -1., -1.],\n",
       "        [-1., -1., -1.],\n",
       "        [-1., -1., -1.]])"
      ]
     },
     "execution_count": 45,
     "metadata": {},
     "output_type": "execute_result"
    }
   ],
   "source": [
    "z = x1 - x2 \n",
    "z"
   ]
  },
  {
   "cell_type": "code",
   "execution_count": 47,
   "metadata": {},
   "outputs": [
    {
     "data": {
      "text/plain": [
       "tensor([3., 3., 3., 3., 3.])"
      ]
     },
     "execution_count": 47,
     "metadata": {},
     "output_type": "execute_result"
    }
   ],
   "source": [
    "# other usefull tensor operations\n",
    "# sum across rows or columns using 'dim'\n",
    "torch.sum(x1, dim=1)"
   ]
  },
  {
   "cell_type": "code",
   "execution_count": 53,
   "metadata": {},
   "outputs": [],
   "source": [
    "# get the min or max across rows or columns\n",
    "values, indices = torch.min(x1, dim=0)\n",
    "values, indices = torch.max(x1, dim=0)\n",
    "\n",
    "# get only indices \n",
    "indices = torch.argmax(x1, dim=0)\n"
   ]
  },
  {
   "cell_type": "code",
   "execution_count": 61,
   "metadata": {},
   "outputs": [
    {
     "data": {
      "text/plain": [
       "tensor([2.])"
      ]
     },
     "execution_count": 61,
     "metadata": {},
     "output_type": "execute_result"
    }
   ],
   "source": [
    "# mean operation\n",
    "# mean operation typecast the input to float type automatically\n",
    "torch.mean(x2, dim=1)"
   ]
  },
  {
   "cell_type": "code",
   "execution_count": 62,
   "metadata": {},
   "outputs": [
    {
     "name": "stdout",
     "output_type": "stream",
     "text": [
      "tensor([1, 2, 3]) tensor([9, 8, 7])\n"
     ]
    },
    {
     "data": {
      "text/plain": [
       "tensor([False, False, False])"
      ]
     },
     "execution_count": 62,
     "metadata": {},
     "output_type": "execute_result"
    }
   ],
   "source": [
    "# element wise comparison \n",
    "print(x,y)\n",
    "torch.eq(x,y)"
   ]
  },
  {
   "cell_type": "code",
   "execution_count": 66,
   "metadata": {},
   "outputs": [
    {
     "data": {
      "text/plain": [
       "torch.return_types.sort(\n",
       "values=tensor([3, 2, 1]),\n",
       "indices=tensor([2, 1, 0]))"
      ]
     },
     "execution_count": 66,
     "metadata": {},
     "output_type": "execute_result"
    }
   ],
   "source": [
    "# sort operations\n",
    "# returs the values and indices\n",
    "torch.sort(x, dim=0, descending=True)"
   ]
  },
  {
   "cell_type": "code",
   "execution_count": 67,
   "metadata": {},
   "outputs": [
    {
     "data": {
      "text/plain": [
       "tensor([2, 1, 0])"
      ]
     },
     "execution_count": 67,
     "metadata": {},
     "output_type": "execute_result"
    }
   ],
   "source": [
    "# similar to argmin and argmax but for sort operation\n",
    "torch.argsort(x, dim=0, descending=True)"
   ]
  },
  {
   "cell_type": "code",
   "execution_count": 71,
   "metadata": {},
   "outputs": [
    {
     "data": {
      "text/plain": [
       "tensor([1, 2, 2])"
      ]
     },
     "execution_count": 71,
     "metadata": {},
     "output_type": "execute_result"
    }
   ],
   "source": [
    "# clamp operations \n",
    "# clip the values \n",
    "torch.clamp(x, min=0, max=2) # clip any value which is outside the range of min and max "
   ]
  },
  {
   "cell_type": "code",
   "execution_count": 82,
   "metadata": {},
   "outputs": [
    {
     "name": "stdout",
     "output_type": "stream",
     "text": [
      "tensor([False,  True, False,  True,  True])\n",
      "tensor(True)\n",
      "tensor(False)\n"
     ]
    }
   ],
   "source": [
    "x1 = torch.tensor([0,1,0,1,1,], dtype=torch.bool)\n",
    "print(x1)\n",
    "\n",
    "# check if all of the values are true\n",
    "print(torch.any(x1))\n",
    "\n",
    "# check if all of the values are true\n",
    "print(torch.all(x1))"
   ]
  },
  {
   "attachments": {},
   "cell_type": "markdown",
   "metadata": {},
   "source": [
    "### Tensor indexing"
   ]
  },
  {
   "cell_type": "code",
   "execution_count": 88,
   "metadata": {},
   "outputs": [
    {
     "data": {
      "text/plain": [
       "torch.Size([10, 20, 5])"
      ]
     },
     "execution_count": 88,
     "metadata": {},
     "output_type": "execute_result"
    }
   ],
   "source": [
    "batch_size = 10\n",
    "feature_size = 20\n",
    "p = 5\n",
    "\n",
    "x1 = torch.rand((batch_size, feature_size, p))\n",
    "x1.shape"
   ]
  },
  {
   "cell_type": "code",
   "execution_count": 96,
   "metadata": {},
   "outputs": [
    {
     "name": "stdout",
     "output_type": "stream",
     "text": [
      "torch.Size([20, 5])\n",
      "torch.Size([10, 5])\n",
      "torch.Size([10, 20, 1])\n"
     ]
    }
   ],
   "source": [
    "print(x1[0].shape)\n",
    "print(x1[:, 0].shape)\n",
    "print(x1[:, :, 0:1].shape)"
   ]
  },
  {
   "cell_type": "code",
   "execution_count": 98,
   "metadata": {},
   "outputs": [
    {
     "data": {
      "text/plain": [
       "tensor([1, 5])"
      ]
     },
     "execution_count": 98,
     "metadata": {},
     "output_type": "execute_result"
    }
   ],
   "source": [
    "# Fancy indexing\n",
    "x = torch.arange(10)\n",
    "fancy_indices = [1,5]\n",
    "\n",
    "# get the values from only faanncy indexing\n",
    "x[[fancy_indices]]"
   ]
  },
  {
   "cell_type": "code",
   "execution_count": 101,
   "metadata": {},
   "outputs": [
    {
     "name": "stdout",
     "output_type": "stream",
     "text": [
      "tensor([0, 1, 9])\n"
     ]
    }
   ],
   "source": [
    "# advance indexing \n",
    "x = torch.arange(10)\n",
    "print(x[(x < 2) | (x >8)])"
   ]
  },
  {
   "attachments": {},
   "cell_type": "markdown",
   "metadata": {},
   "source": [
    "### Reshaping"
   ]
  },
  {
   "cell_type": "code",
   "execution_count": 102,
   "metadata": {},
   "outputs": [
    {
     "name": "stdout",
     "output_type": "stream",
     "text": [
      "tensor([0, 1, 2, 3, 4, 5, 6, 7, 8])\n"
     ]
    }
   ],
   "source": [
    "x = torch.arange(9)\n",
    "print(x)"
   ]
  },
  {
   "cell_type": "code",
   "execution_count": 111,
   "metadata": {},
   "outputs": [
    {
     "data": {
      "text/plain": [
       "tensor([[0, 1, 2],\n",
       "        [3, 4, 5],\n",
       "        [6, 7, 8]])"
      ]
     },
     "execution_count": 111,
     "metadata": {},
     "output_type": "execute_result"
    }
   ],
   "source": [
    "# method 1 reshape: more felxible and prefered \n",
    "x_3x3 = x.reshape(3,3)\n",
    "x_3x3"
   ]
  },
  {
   "cell_type": "code",
   "execution_count": 110,
   "metadata": {},
   "outputs": [
    {
     "data": {
      "text/plain": [
       "tensor([[0, 1, 2],\n",
       "        [3, 4, 5],\n",
       "        [6, 7, 8]])"
      ]
     },
     "execution_count": 110,
     "metadata": {},
     "output_type": "execute_result"
    }
   ],
   "source": [
    "# method 2 view: Faster but can have some issues as it works with contagious memory only. \n",
    "x_3x3 = x.view(3,3)\n",
    "x_3x3"
   ]
  },
  {
   "cell_type": "code",
   "execution_count": 128,
   "metadata": {},
   "outputs": [
    {
     "name": "stdout",
     "output_type": "stream",
     "text": [
      "tensor([0, 1, 2, 3, 4, 5, 6, 7, 8])\n",
      "tensor([0, 1, 2, 3, 4, 5, 6, 7, 8])\n"
     ]
    }
   ],
   "source": [
    "# flatten the array\n",
    "# In pytotch '-1' will automatically understand the context  \n",
    "print(x_3x3.view(-1))\n",
    "\n",
    "# or \n",
    "print(x_3x3.reshape(-1))\n"
   ]
  },
  {
   "cell_type": "code",
   "execution_count": 134,
   "metadata": {},
   "outputs": [
    {
     "name": "stdout",
     "output_type": "stream",
     "text": [
      "torch.Size([5, 4, 3])\n"
     ]
    },
    {
     "data": {
      "text/plain": [
       "tensor([0.2072, 0.0090, 0.3333, 0.5121, 0.8545, 0.0419, 0.6769, 0.6267, 0.8252,\n",
       "        0.8245, 0.6496, 0.3290, 0.9017, 0.5844, 0.3315, 0.6923, 0.2107, 0.1464,\n",
       "        0.5038, 0.0047, 0.4079, 0.3351, 0.1175, 0.1020, 0.3653, 0.5287, 0.6619,\n",
       "        0.3453, 0.4553, 0.4391, 0.7854, 0.2554, 0.1115, 0.7786, 0.5186, 0.6416,\n",
       "        0.1231, 0.2803, 0.8014, 0.0412, 0.2266, 0.5199, 0.6134, 0.6814, 0.1764,\n",
       "        0.0942, 0.8660, 0.0475, 0.2635, 0.5759, 0.9375, 0.9963, 0.6548, 0.8347,\n",
       "        0.9683, 0.0345, 0.1472, 0.7367, 0.1979, 0.0205])"
      ]
     },
     "execution_count": 134,
     "metadata": {},
     "output_type": "execute_result"
    }
   ],
   "source": [
    "# flatten the 3d array\n",
    "x = torch.rand((5,4,3))\n",
    "print(x.shape)\n",
    "x.reshape(-1)"
   ]
  },
  {
   "cell_type": "code",
   "execution_count": 139,
   "metadata": {},
   "outputs": [
    {
     "name": "stdout",
     "output_type": "stream",
     "text": [
      "before:  torch.Size([5, 4, 3])\n",
      "after:  torch.Size([5, 3, 4])\n"
     ]
    }
   ],
   "source": [
    "# permute to reshape it\n",
    "# Here we need to give the index of dimension rater than the dimension size\n",
    "# Think of this as a special case for transforse but applicaple to more than only matrix(2d array)\n",
    "z = x.permute(0,2,1)\n",
    "print('before: ', x.shape)\n",
    "print('after: ', z.shape)"
   ]
  },
  {
   "cell_type": "code",
   "execution_count": 117,
   "metadata": {},
   "outputs": [
    {
     "name": "stdout",
     "output_type": "stream",
     "text": [
      "tensor([[0.3758, 0.0358, 0.3676, 0.0572],\n",
      "        [0.9965, 0.4806, 0.2394, 0.3907]])\n",
      "tensor([[0.0285, 0.0664, 0.6732, 0.4995],\n",
      "        [0.6231, 0.5367, 0.2265, 0.9908]])\n"
     ]
    }
   ],
   "source": [
    "# Concatenate\n",
    "x1 = torch.rand((2,4))\n",
    "x2 = torch.rand((2,4))\n",
    "\n",
    "print(x1)\n",
    "print(x2)"
   ]
  },
  {
   "cell_type": "code",
   "execution_count": 124,
   "metadata": {},
   "outputs": [
    {
     "name": "stdout",
     "output_type": "stream",
     "text": [
      "torch.Size([4, 4])\n",
      "tensor([[0.3758, 0.0358, 0.3676, 0.0572],\n",
      "        [0.9965, 0.4806, 0.2394, 0.3907],\n",
      "        [0.0285, 0.0664, 0.6732, 0.4995],\n",
      "        [0.6231, 0.5367, 0.2265, 0.9908]])\n"
     ]
    }
   ],
   "source": [
    "# Concatenate acroass columns\n",
    "row_cat = torch.cat((x1, x2), dim=0)\n",
    "print(row_cat.shape)\n",
    "print(row_cat)"
   ]
  },
  {
   "cell_type": "code",
   "execution_count": 125,
   "metadata": {},
   "outputs": [
    {
     "name": "stdout",
     "output_type": "stream",
     "text": [
      "torch.Size([2, 8])\n",
      "tensor([[0.3758, 0.0358, 0.3676, 0.0572, 0.0285, 0.0664, 0.6732, 0.4995],\n",
      "        [0.9965, 0.4806, 0.2394, 0.3907, 0.6231, 0.5367, 0.2265, 0.9908]])\n"
     ]
    }
   ],
   "source": [
    "# Concatenate acroass columns\n",
    "col_cat = torch.cat((x1, x2), dim=1)\n",
    "print(col_cat.shape)\n",
    "print(col_cat)"
   ]
  },
  {
   "cell_type": "code",
   "execution_count": 154,
   "metadata": {},
   "outputs": [
    {
     "name": "stdout",
     "output_type": "stream",
     "text": [
      "torch.Size([10]) tensor([0, 1, 2, 3, 4, 5, 6, 7, 8, 9])\n",
      "torch.Size([1, 10])\n",
      "torch.Size([10, 1])\n",
      "torch.Size([10, 1, 1])\n",
      "torch.Size([10, 1])\n"
     ]
    }
   ],
   "source": [
    "# unsqueze : adding dimension \n",
    "# squeeze : removing dimension\n",
    "\n",
    "x = torch.arange(10)\n",
    "print(x.shape, x)\n",
    "\n",
    "z = x.unsqueeze(0)\n",
    "print(z.shape)\n",
    "\n",
    "z = x.unsqueeze(1)\n",
    "print(z.shape)\n",
    "\n",
    "z = x.unsqueeze(1).unsqueeze(1)\n",
    "print(z.shape)\n",
    "\n",
    "z = z.squeeze(1)\n",
    "print(z.shape)\n"
   ]
  },
  {
   "cell_type": "code",
   "execution_count": null,
   "metadata": {},
   "outputs": [],
   "source": []
  }
 ],
 "metadata": {
  "kernelspec": {
   "display_name": "Python 3",
   "language": "python",
   "name": "python3"
  },
  "language_info": {
   "codemirror_mode": {
    "name": "ipython",
    "version": 3
   },
   "file_extension": ".py",
   "mimetype": "text/x-python",
   "name": "python",
   "nbconvert_exporter": "python",
   "pygments_lexer": "ipython3",
   "version": "3.9.16"
  },
  "orig_nbformat": 4
 },
 "nbformat": 4,
 "nbformat_minor": 2
}
